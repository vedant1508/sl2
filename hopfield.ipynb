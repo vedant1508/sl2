{
 "cells": [
  {
   "cell_type": "code",
   "execution_count": 2,
   "id": "abc50994",
   "metadata": {},
   "outputs": [],
   "source": [
    "#Practical No. 10\n",
    "#Write a python program to design a Hopfield Network which stores 4 vectors"
   ]
  },
  {
   "cell_type": "code",
   "execution_count": 3,
   "id": "ff59c081",
   "metadata": {},
   "outputs": [
    {
     "name": "stdout",
     "output_type": "stream",
     "text": [
      "Pattern 1: [ 1  1 -1 -1], Recalled Pattern: [ 1  1 -1 -1]\n",
      "Pattern 2: [-1 -1  1  1], Recalled Pattern: [-1 -1  1  1]\n",
      "Pattern 3: [ 1 -1  1 -1], Recalled Pattern: [ 1 -1  1 -1]\n",
      "Pattern 4: [-1  1 -1  1], Recalled Pattern: [-1  1 -1  1]\n"
     ]
    }
   ],
   "source": [
    "import numpy as np\n",
    " \n",
    "class HopfieldNetwork:\n",
    "    def __init__(self, n):\n",
    "        self.n = n  # Number of neurons\n",
    "        self.weights = np.zeros((n, n))  # Weight matrix\n",
    " \n",
    "    def train(self, patterns):\n",
    "        # Hebbian learning rule\n",
    "        for pattern in patterns:\n",
    "            pattern = pattern.reshape(-1, 1)  # Reshape pattern to a column vector\n",
    "            self.weights += np.outer(pattern, pattern)\n",
    " \n",
    "        # Set diagonal elements to 0 (self-connections are not allowed)\n",
    "        np.fill_diagonal(self.weights, 0)\n",
    " \n",
    "    def energy(self, state):\n",
    "        # Calculate the energy of the network for a given state\n",
    "        return -0.5 * np.dot(state.T, np.dot(self.weights, state))\n",
    " \n",
    "    def update_rule(self, state):\n",
    "        # Asynchronous update rule\n",
    "        for i in range(self.n):\n",
    "            activation = np.dot(self.weights[i], state)\n",
    "            state[i] = 1 if activation > 0 else -1\n",
    "        return state\n",
    " \n",
    "    def recall(self, pattern, max_iter=100):\n",
    "        # Recall a stored pattern\n",
    "        pattern = pattern.reshape(-1, 1)  # Reshape pattern to a column vector\n",
    "        state = pattern.copy()\n",
    "        for _ in range(max_iter):\n",
    "            new_state = self.update_rule(state)\n",
    "            if np.array_equal(new_state, state):\n",
    "                return new_state.flatten()\n",
    "            state = new_state\n",
    "        return None  # Convergence not reached within max_iter iterations\n",
    " \n",
    "# Define patterns to be stored in the network\n",
    "patterns = np.array([\n",
    "    [1, 1, -1, -1],\n",
    "    [-1, -1, 1, 1],\n",
    "    [1, -1, 1, -1],\n",
    "    [-1, 1, -1, 1]\n",
    "])\n",
    " \n",
    "# Create and train the Hopfield network\n",
    "hopfield_net = HopfieldNetwork(n=len(patterns[0]))\n",
    "hopfield_net.train(patterns)\n",
    " \n",
    "# Test recall for each stored pattern\n",
    "for i, pattern in enumerate(patterns):\n",
    "    recalled_pattern = hopfield_net.recall(pattern)\n",
    "    print(f\"Pattern {i+1}: {pattern}, Recalled Pattern: {recalled_pattern}\")"
   ]
  },
  {
   "cell_type": "code",
   "execution_count": null,
   "id": "01ed0cbe",
   "metadata": {},
   "outputs": [],
   "source": []
  }
 ],
 "metadata": {
  "kernelspec": {
   "display_name": "Python 3 (ipykernel)",
   "language": "python",
   "name": "python3"
  },
  "language_info": {
   "codemirror_mode": {
    "name": "ipython",
    "version": 3
   },
   "file_extension": ".py",
   "mimetype": "text/x-python",
   "name": "python",
   "nbconvert_exporter": "python",
   "pygments_lexer": "ipython3",
   "version": "3.10.9"
  }
 },
 "nbformat": 4,
 "nbformat_minor": 5
}
