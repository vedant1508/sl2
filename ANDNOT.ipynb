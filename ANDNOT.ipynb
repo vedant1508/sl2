{
 "cells": [
  {
   "cell_type": "code",
   "execution_count": 1,
   "id": "f32d14c6",
   "metadata": {},
   "outputs": [],
   "source": [
    "#Generate ANDNOT function using McCulloch-Pitts neural net by a python program."
   ]
  },
  {
   "cell_type": "code",
   "execution_count": 2,
   "id": "dd3d95cf",
   "metadata": {},
   "outputs": [
    {
     "name": "stdout",
     "output_type": "stream",
     "text": [
      "x1\tx2\tOutput\n",
      "--------------------\n",
      "0\t0\t0\n",
      "0\t1\t0\n",
      "1\t0\t1\n",
      "1\t1\t0\n"
     ]
    }
   ],
   "source": [
    "import numpy as np\n",
    "\n",
    "def mp_neuron(inputs, weights, threshold):\n",
    "    weighted_sum = np.dot(inputs, weights)\n",
    "    output = 1 if weighted_sum >= threshold else 0\n",
    "    return output\n",
    " \n",
    "def and_not(x1, x2):\n",
    "    weights = [1, -1]  # Weights for AND NOT\n",
    "    threshold = 1\n",
    "    inputs = np.array([x1, x2])\n",
    "    output = mp_neuron(inputs, weights, threshold)\n",
    "    return output\n",
    "\n",
    "# Print the truth table\n",
    "print(\"x1\\tx2\\tOutput\")\n",
    "print(\"-\" * 20)\n",
    "for x1 in [0, 1]:\n",
    "    for x2 in [0, 1]:\n",
    "        output = and_not(x1, x2)\n",
    "        print(f\"{x1}\\t{x2}\\t{output}\")"
   ]
  },
  {
   "cell_type": "code",
   "execution_count": null,
   "id": "5a1d61e8",
   "metadata": {},
   "outputs": [],
   "source": []
  }
 ],
 "metadata": {
  "kernelspec": {
   "display_name": "Python 3 (ipykernel)",
   "language": "python",
   "name": "python3"
  },
  "language_info": {
   "codemirror_mode": {
    "name": "ipython",
    "version": 3
   },
   "file_extension": ".py",
   "mimetype": "text/x-python",
   "name": "python",
   "nbconvert_exporter": "python",
   "pygments_lexer": "ipython3",
   "version": "3.10.9"
  }
 },
 "nbformat": 4,
 "nbformat_minor": 5
}
