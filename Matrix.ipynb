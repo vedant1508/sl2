{
 "cells": [
  {
   "cell_type": "code",
   "execution_count": null,
   "id": "cfee7a66",
   "metadata": {},
   "outputs": [],
   "source": [
    "#Practical No. 6\n",
    "#Write a python program to recognize the number 0, 1, 2, 39. A 5 * 3 matrix forms the numbers. For any valid point it is taken as 1 and invalid point it is taken as 0. The net has to be trained to recognize all the numbers and when the test data is given, the network has to recognize the particular numbers."
   ]
  },
  {
   "cell_type": "code",
   "execution_count": 1,
   "id": "f6cf4b80",
   "metadata": {},
   "outputs": [
    {
     "name": "stdout",
     "output_type": "stream",
     "text": [
      "Predicted Number: 8\n"
     ]
    }
   ],
   "source": [
    "import numpy as np\n",
    "from sklearn.neural_network import MLPClassifier\n",
    " \n",
    "# Define training data\n",
    "X_train = np.array([\n",
    "    [1, 1, 1, 1, 1,   # Digit 0\n",
    "     1, 0, 0, 0, 1,\n",
    "     1, 0, 0, 0, 1],\n",
    "    \n",
    "    [0, 0, 1, 0, 0,   # Digit 1\n",
    "     0, 0, 1, 0, 0,\n",
    "     0, 0, 1, 0, 0],\n",
    "    \n",
    "    [1, 1, 1, 0, 0,   # Digit 2\n",
    "     1, 1, 1, 1, 1,\n",
    "     1, 0, 0, 0, 0],\n",
    "    \n",
    "    [1, 1, 1, 0, 0,   # Digit 3\n",
    "     1, 1, 1, 0, 0,\n",
    "     1, 1, 1, 0, 0],\n",
    "    \n",
    "    [1, 0, 1, 0, 1,   # Digit 4\n",
    "     1, 0, 1, 0, 1,\n",
    "     1, 1, 1, 1, 1],\n",
    "    \n",
    "    [1, 1, 1, 0, 0,   # Digit 5\n",
    "     1, 0, 0, 0, 0,\n",
    "     1, 1, 1, 0, 0],\n",
    "    \n",
    "    [1, 1, 1, 0, 0,   # Digit 6\n",
    "     1, 0, 0, 0, 0,\n",
    "     1, 1, 1, 1, 1],\n",
    "    \n",
    "    [1, 1, 1, 0, 0,   # Digit 7\n",
    "     0, 0, 1, 0, 0,\n",
    "     0, 0, 1, 0, 0],\n",
    "    \n",
    "    [1, 1, 1, 1, 1,   # Digit 8\n",
    "     1, 1, 1, 1, 1,\n",
    "     1, 1, 1, 1, 1],\n",
    "    \n",
    "    [1, 1, 1, 0, 0,   # Digit 9\n",
    "     1, 1, 1, 0, 0,\n",
    "     1, 1, 1, 0, 0]\n",
    "])\n",
    " \n",
    "# Define labels\n",
    "y_train = np.array([0, 1, 2, 3, 4, 5, 6, 7, 8, 9])\n",
    " \n",
    "# Create and train the neural network\n",
    "clf = MLPClassifier(hidden_layer_sizes=(15,), activation='relu', max_iter=1000)\n",
    "clf.fit(X_train, y_train)\n",
    " \n",
    "# Test the trained model\n",
    "def recognize_number(input_data):\n",
    "    predicted_digit = clf.predict([input_data])\n",
    "    return predicted_digit[0]\n",
    " \n",
    "# Example test data\n",
    "test_data = [\n",
    "    [1, 1, 1, 1, 1,   # Test digit 8\n",
    "     1, 1, 1, 1, 1,\n",
    "     1, 1, 1, 1, 1]\n",
    "]\n",
    " \n",
    "# Test the model\n",
    "for data in test_data:\n",
    "    predicted_number = recognize_number(data)\n",
    "    print(\"Predicted Number:\", predicted_number)"
   ]
  },
  {
   "cell_type": "code",
   "execution_count": null,
   "id": "68337e2d",
   "metadata": {},
   "outputs": [],
   "source": []
  }
 ],
 "metadata": {
  "kernelspec": {
   "display_name": "Python 3 (ipykernel)",
   "language": "python",
   "name": "python3"
  },
  "language_info": {
   "codemirror_mode": {
    "name": "ipython",
    "version": 3
   },
   "file_extension": ".py",
   "mimetype": "text/x-python",
   "name": "python",
   "nbconvert_exporter": "python",
   "pygments_lexer": "ipython3",
   "version": "3.10.9"
  }
 },
 "nbformat": 4,
 "nbformat_minor": 5
}
