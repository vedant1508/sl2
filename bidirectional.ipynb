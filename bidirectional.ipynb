{
 "cells": [
  {
   "cell_type": "code",
   "execution_count": 1,
   "id": "cb8d3a51",
   "metadata": {},
   "outputs": [],
   "source": [
    "#Practical No. 5\n",
    "#Write a python Program for Bidirectional Associative Memory with two pairs of vectors."
   ]
  },
  {
   "cell_type": "code",
   "execution_count": 2,
   "id": "3f623a7c",
   "metadata": {},
   "outputs": [
    {
     "name": "stdout",
     "output_type": "stream",
     "text": [
      "Recalled X: [[1 1 1]]\n",
      "Recalled Y: [[1 1 0]]\n"
     ]
    }
   ],
   "source": [
    "import numpy as np\n",
    "\n",
    "class BAM:\n",
    "    def __init__(self, X, Y):\n",
    "        self.X = X\n",
    "        self.Y = Y\n",
    "        self.W = np.dot(X.T, Y)\n",
    "        self.T = np.dot(Y.T, X)\n",
    "\n",
    "    def recall_X(self, Y):\n",
    "        return np.dot(Y, self.W.T)\n",
    "\n",
    "    def recall_Y(self, X):\n",
    "        return np.dot(X, self.T.T)\n",
    "\n",
    "# Example vectors\n",
    "X = np.array([[1, 0, 1],\n",
    "              [0, 1, 0]])\n",
    "Y = np.array([[1, 1, 0],\n",
    "              [0, 0, 1]])\n",
    "\n",
    "# Create BAM\n",
    "bam = BAM(X, Y)\n",
    "\n",
    "# Test recall\n",
    "test_X = np.array([[1, 0, 0]])\n",
    "test_Y = np.array([[0, 1, 1]])\n",
    "\n",
    "recalled_X = bam.recall_X(test_Y)\n",
    "recalled_Y = bam.recall_Y(test_X)\n",
    "\n",
    "print(\"Recalled X:\", recalled_X)\n",
    "print(\"Recalled Y:\", recalled_Y)"
   ]
  },
  {
   "cell_type": "code",
   "execution_count": null,
   "id": "c53053a4",
   "metadata": {},
   "outputs": [],
   "source": []
  }
 ],
 "metadata": {
  "kernelspec": {
   "display_name": "Python 3 (ipykernel)",
   "language": "python",
   "name": "python3"
  },
  "language_info": {
   "codemirror_mode": {
    "name": "ipython",
    "version": 3
   },
   "file_extension": ".py",
   "mimetype": "text/x-python",
   "name": "python",
   "nbconvert_exporter": "python",
   "pygments_lexer": "ipython3",
   "version": "3.10.9"
  }
 },
 "nbformat": 4,
 "nbformat_minor": 5
}
